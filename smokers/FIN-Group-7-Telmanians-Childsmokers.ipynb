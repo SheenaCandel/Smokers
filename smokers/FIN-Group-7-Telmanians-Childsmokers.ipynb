{
 "cells": [
  {
   "cell_type": "markdown",
   "id": "72f366c5",
   "metadata": {},
   "source": [
    "# Group 7 - Telmanians"
   ]
  },
  {
   "cell_type": "markdown",
   "id": "306c7704",
   "metadata": {},
   "source": [
    "• Candel, Sheena </br>\n",
    "• Hilotin, Tessa Mae</br>\n",
    "• Javier, Alexandria</br>\n",
    "• Llamis, Charlyn Jean</br>"
   ]
  },
  {
   "cell_type": "markdown",
   "id": "3989bbd3",
   "metadata": {},
   "source": [
    "## Importing important libraries"
   ]
  },
  {
   "cell_type": "code",
   "execution_count": 3,
   "id": "4739f84c",
   "metadata": {},
   "outputs": [],
   "source": [
    "from sklearn.neighbors import KNeighborsClassifier\n",
    "\n",
    "import numpy as np\n",
    "%matplotlib inline\n",
    "import matplotlib.pyplot as plt\n",
    "import pandas as pd\n",
    "from sklearn.model_selection import train_test_split,cross_val_score, KFold, GridSearchCV\n",
    "import seaborn as sns\n",
    "import mglearn\n",
    "\n",
    "import warnings\n",
    "warnings.simplefilter(\"ignore\")"
   ]
  },
  {
   "cell_type": "markdown",
   "id": "dec7b860",
   "metadata": {},
   "source": [
    "## Reading the Dataset"
   ]
  },
  {
   "cell_type": "code",
   "execution_count": 4,
   "id": "784ba35b",
   "metadata": {
    "scrolled": false
   },
   "outputs": [
    {
     "data": {
      "text/html": [
       "<div>\n",
       "<style scoped>\n",
       "    .dataframe tbody tr th:only-of-type {\n",
       "        vertical-align: middle;\n",
       "    }\n",
       "\n",
       "    .dataframe tbody tr th {\n",
       "        vertical-align: top;\n",
       "    }\n",
       "\n",
       "    .dataframe thead th {\n",
       "        text-align: right;\n",
       "    }\n",
       "</style>\n",
       "<table border=\"1\" class=\"dataframe\">\n",
       "  <thead>\n",
       "    <tr style=\"text-align: right;\">\n",
       "      <th></th>\n",
       "      <th>Age</th>\n",
       "      <th>Height</th>\n",
       "      <th>FEV</th>\n",
       "      <th>Sex</th>\n",
       "      <th>Smoker</th>\n",
       "    </tr>\n",
       "  </thead>\n",
       "  <tbody>\n",
       "    <tr>\n",
       "      <th>0</th>\n",
       "      <td>9</td>\n",
       "      <td>145</td>\n",
       "      <td>1.708</td>\n",
       "      <td>female</td>\n",
       "      <td>non</td>\n",
       "    </tr>\n",
       "    <tr>\n",
       "      <th>1</th>\n",
       "      <td>8</td>\n",
       "      <td>171</td>\n",
       "      <td>1.724</td>\n",
       "      <td>female</td>\n",
       "      <td>non</td>\n",
       "    </tr>\n",
       "    <tr>\n",
       "      <th>2</th>\n",
       "      <td>7</td>\n",
       "      <td>138</td>\n",
       "      <td>1.720</td>\n",
       "      <td>female</td>\n",
       "      <td>non</td>\n",
       "    </tr>\n",
       "    <tr>\n",
       "      <th>3</th>\n",
       "      <td>9</td>\n",
       "      <td>135</td>\n",
       "      <td>1.558</td>\n",
       "      <td>male</td>\n",
       "      <td>non</td>\n",
       "    </tr>\n",
       "    <tr>\n",
       "      <th>4</th>\n",
       "      <td>9</td>\n",
       "      <td>145</td>\n",
       "      <td>1.895</td>\n",
       "      <td>male</td>\n",
       "      <td>non</td>\n",
       "    </tr>\n",
       "    <tr>\n",
       "      <th>...</th>\n",
       "      <td>...</td>\n",
       "      <td>...</td>\n",
       "      <td>...</td>\n",
       "      <td>...</td>\n",
       "      <td>...</td>\n",
       "    </tr>\n",
       "    <tr>\n",
       "      <th>649</th>\n",
       "      <td>15</td>\n",
       "      <td>152</td>\n",
       "      <td>2.278</td>\n",
       "      <td>female</td>\n",
       "      <td>smoker</td>\n",
       "    </tr>\n",
       "    <tr>\n",
       "      <th>650</th>\n",
       "      <td>16</td>\n",
       "      <td>183</td>\n",
       "      <td>4.872</td>\n",
       "      <td>male</td>\n",
       "      <td>smoker</td>\n",
       "    </tr>\n",
       "    <tr>\n",
       "      <th>651</th>\n",
       "      <td>16</td>\n",
       "      <td>170</td>\n",
       "      <td>4.270</td>\n",
       "      <td>male</td>\n",
       "      <td>smoker</td>\n",
       "    </tr>\n",
       "    <tr>\n",
       "      <th>652</th>\n",
       "      <td>15</td>\n",
       "      <td>173</td>\n",
       "      <td>3.727</td>\n",
       "      <td>male</td>\n",
       "      <td>smoker</td>\n",
       "    </tr>\n",
       "    <tr>\n",
       "      <th>653</th>\n",
       "      <td>16</td>\n",
       "      <td>160</td>\n",
       "      <td>2.795</td>\n",
       "      <td>female</td>\n",
       "      <td>smoker</td>\n",
       "    </tr>\n",
       "  </tbody>\n",
       "</table>\n",
       "<p>654 rows × 5 columns</p>\n",
       "</div>"
      ],
      "text/plain": [
       "     Age  Height    FEV     Sex  Smoker\n",
       "0      9     145  1.708  female     non\n",
       "1      8     171  1.724  female     non\n",
       "2      7     138  1.720  female     non\n",
       "3      9     135  1.558    male     non\n",
       "4      9     145  1.895    male     non\n",
       "..   ...     ...    ...     ...     ...\n",
       "649   15     152  2.278  female  smoker\n",
       "650   16     183  4.872    male  smoker\n",
       "651   16     170  4.270    male  smoker\n",
       "652   15     173  3.727    male  smoker\n",
       "653   16     160  2.795  female  smoker\n",
       "\n",
       "[654 rows x 5 columns]"
      ]
     },
     "execution_count": 4,
     "metadata": {},
     "output_type": "execute_result"
    }
   ],
   "source": [
    "df=pd.read_csv('Childsmokers.csv')\n",
    "df"
   ]
  },
  {
   "cell_type": "code",
   "execution_count": 5,
   "id": "ac210f8c",
   "metadata": {
    "scrolled": true
   },
   "outputs": [
    {
     "data": {
      "text/plain": [
       "<AxesSubplot:xlabel='Smoker', ylabel='count'>"
      ]
     },
     "execution_count": 5,
     "metadata": {},
     "output_type": "execute_result"
    },
    {
     "data": {
      "image/png": "[encoded data removed]",
      "text/plain": [
       "<Figure size 432x288 with 1 Axes>"
      ]
     },
     "metadata": {
      "needs_background": "light"
     },
     "output_type": "display_data"
    }
   ],
   "source": [
    "sns.countplot(df['Smoker'],label=\"Count\")"
   ]
  },
  {
   "cell_type": "markdown",
   "id": "c0c375e5",
   "metadata": {},
   "source": [
    "The x label is the target variable: 0 value as NON-SMOKER and 1 as SMOKER. The bar plot shows that most of the data are non-smoker."
   ]
  },
  {
   "cell_type": "code",
   "execution_count": 6,
   "id": "6d491e07",
   "metadata": {
    "scrolled": true
   },
   "outputs": [
    {
     "data": {
      "text/html": [
       "<div>\n",
       "<style scoped>\n",
       "    .dataframe tbody tr th:only-of-type {\n",
       "        vertical-align: middle;\n",
       "    }\n",
       "\n",
       "    .dataframe tbody tr th {\n",
       "        vertical-align: top;\n",
       "    }\n",
       "\n",
       "    .dataframe thead th {\n",
       "        text-align: right;\n",
       "    }\n",
       "</style>\n",
       "<table border=\"1\" class=\"dataframe\">\n",
       "  <thead>\n",
       "    <tr style=\"text-align: right;\">\n",
       "      <th></th>\n",
       "      <th>count</th>\n",
       "      <th>mean</th>\n",
       "      <th>std</th>\n",
       "      <th>min</th>\n",
       "      <th>25%</th>\n",
       "      <th>50%</th>\n",
       "      <th>75%</th>\n",
       "      <th>max</th>\n",
       "    </tr>\n",
       "  </thead>\n",
       "  <tbody>\n",
       "    <tr>\n",
       "      <th>Age</th>\n",
       "      <td>654.0</td>\n",
       "      <td>9.931193</td>\n",
       "      <td>2.953935</td>\n",
       "      <td>3.000</td>\n",
       "      <td>8.000</td>\n",
       "      <td>10.0000</td>\n",
       "      <td>12.0000</td>\n",
       "      <td>19.000</td>\n",
       "    </tr>\n",
       "    <tr>\n",
       "      <th>Height</th>\n",
       "      <td>654.0</td>\n",
       "      <td>155.298165</td>\n",
       "      <td>14.471647</td>\n",
       "      <td>117.000</td>\n",
       "      <td>145.000</td>\n",
       "      <td>156.0000</td>\n",
       "      <td>166.0000</td>\n",
       "      <td>188.000</td>\n",
       "    </tr>\n",
       "    <tr>\n",
       "      <th>FEV</th>\n",
       "      <td>654.0</td>\n",
       "      <td>2.636780</td>\n",
       "      <td>0.867059</td>\n",
       "      <td>0.791</td>\n",
       "      <td>1.981</td>\n",
       "      <td>2.5475</td>\n",
       "      <td>3.1185</td>\n",
       "      <td>5.793</td>\n",
       "    </tr>\n",
       "  </tbody>\n",
       "</table>\n",
       "</div>"
      ],
      "text/plain": [
       "        count        mean        std      min      25%       50%       75%  \\\n",
       "Age     654.0    9.931193   2.953935    3.000    8.000   10.0000   12.0000   \n",
       "Height  654.0  155.298165  14.471647  117.000  145.000  156.0000  166.0000   \n",
       "FEV     654.0    2.636780   0.867059    0.791    1.981    2.5475    3.1185   \n",
       "\n",
       "            max  \n",
       "Age      19.000  \n",
       "Height  188.000  \n",
       "FEV       5.793  "
      ]
     },
     "execution_count": 6,
     "metadata": {},
     "output_type": "execute_result"
    }
   ],
   "source": [
    "df.describe().transpose()"
   ]
  },
  {
   "cell_type": "code",
   "execution_count": 7,
   "id": "d2eeeda5",
   "metadata": {},
   "outputs": [],
   "source": [
    "df.Sex.replace({'female':0, 'male':1}, inplace=True)\n",
    "df.Smoker.replace({'non':0, 'smoker':1}, inplace=True)"
   ]
  },
  {
   "cell_type": "code",
   "execution_count": 9,
   "id": "5d70ad25",
   "metadata": {},
   "outputs": [],
   "source": [
    "X = df[['Age','Height','FEV','Sex']].values\n",
    "y = df[['Smoker']].values"
   ]
  },
  {
   "cell_type": "code",
   "execution_count": 10,
   "id": "24e36774",
   "metadata": {},
   "outputs": [],
   "source": [
    "X_train, X_test, y_train, y_test = train_test_split(X, y, test_size=0.20,random_state=42)"
   ]
  },
  {
   "cell_type": "code",
   "execution_count": 11,
   "id": "27522ca7",
   "metadata": {},
   "outputs": [],
   "source": [
    "from sklearn.neighbors import KNeighborsClassifier\n",
    "clf = KNeighborsClassifier(n_neighbors=7)"
   ]
  },
  {
   "cell_type": "code",
   "execution_count": 12,
   "id": "59c641d9",
   "metadata": {},
   "outputs": [
    {
     "data": {
      "text/plain": [
       "KNeighborsClassifier(n_neighbors=7)"
      ]
     },
     "execution_count": 12,
     "metadata": {},
     "output_type": "execute_result"
    }
   ],
   "source": [
    "clf.fit(X_train, y_train)"
   ]
  },
  {
   "cell_type": "code",
   "execution_count": 13,
   "id": "bfe2c884",
   "metadata": {},
   "outputs": [
    {
     "data": {
      "text/plain": [
       "array([[ 13.   , 163.   ,   3.147,   0.   ],\n",
       "       [  9.   , 175.   ,   3.842,   1.   ],\n",
       "       [ 12.   , 160.   ,   2.569,   0.   ],\n",
       "       [  9.   , 163.   ,   2.487,   0.   ],\n",
       "       [ 13.   , 170.   ,   3.994,   1.   ],\n",
       "       [ 16.   , 183.   ,   4.872,   1.   ],\n",
       "       [  9.   , 145.   ,   2.57 ,   1.   ],\n",
       "       [  9.   , 154.   ,   2.56 ,   0.   ],\n",
       "       [  8.   , 135.   ,   1.759,   1.   ],\n",
       "       [  6.   , 137.   ,   1.634,   1.   ],\n",
       "       [  8.   , 144.   ,   1.844,   0.   ],\n",
       "       [  6.   , 135.   ,   1.695,   0.   ],\n",
       "       [ 12.   , 179.   ,   3.279,   1.   ],\n",
       "       [  9.   , 149.   ,   2.135,   1.   ],\n",
       "       [  4.   , 124.   ,   1.577,   0.   ],\n",
       "       [ 15.   , 152.   ,   2.278,   0.   ],\n",
       "       [ 17.   , 170.   ,   3.082,   1.   ],\n",
       "       [  9.   , 156.   ,   3.029,   0.   ],\n",
       "       [  7.   , 142.   ,   2.135,   1.   ],\n",
       "       [  8.   , 160.   ,   2.503,   1.   ],\n",
       "       [  5.   , 135.   ,   1.858,   1.   ],\n",
       "       [ 12.   , 177.   ,   2.822,   1.   ],\n",
       "       [ 15.   , 163.   ,   3.122,   0.   ],\n",
       "       [ 17.   , 179.   ,   4.724,   1.   ],\n",
       "       [ 11.   , 168.   ,   3.236,   0.   ],\n",
       "       [ 13.   , 179.   ,   4.232,   1.   ],\n",
       "       [ 10.   , 166.   ,   3.048,   0.   ],\n",
       "       [  9.   , 152.   ,   2.715,   1.   ],\n",
       "       [ 13.   , 175.   ,   4.045,   1.   ],\n",
       "       [  6.   , 135.   ,   1.602,   0.   ],\n",
       "       [ 10.   , 165.   ,   3.2  ,   1.   ],\n",
       "       [  5.   , 130.   ,   1.589,   0.   ],\n",
       "       [  5.   , 128.   ,   1.359,   1.   ],\n",
       "       [ 10.   , 151.   ,   2.901,   1.   ],\n",
       "       [  9.   , 166.   ,   3.   ,   1.   ],\n",
       "       [ 14.   , 159.   ,   3.436,   1.   ],\n",
       "       [  9.   , 146.   ,   2.166,   0.   ],\n",
       "       [  7.   , 142.   ,   2.55 ,   1.   ],\n",
       "       [  9.   , 145.   ,   1.869,   1.   ],\n",
       "       [ 15.   , 180.   ,   3.985,   1.   ],\n",
       "       [ 11.   , 157.   ,   2.633,   0.   ],\n",
       "       [ 11.   , 174.   ,   3.845,   1.   ],\n",
       "       [  9.   , 145.   ,   2.42 ,   1.   ],\n",
       "       [ 11.   , 159.   ,   2.562,   0.   ],\n",
       "       [  7.   , 149.   ,   1.742,   0.   ],\n",
       "       [ 10.   , 165.   ,   3.09 ,   1.   ],\n",
       "       [ 16.   , 171.   ,   3.674,   0.   ],\n",
       "       [ 11.   , 171.   ,   4.324,   1.   ],\n",
       "       [  7.   , 147.   ,   2.564,   0.   ],\n",
       "       [ 13.   , 165.   ,   3.297,   0.   ],\n",
       "       [  7.   , 138.   ,   1.72 ,   0.   ],\n",
       "       [ 12.   , 177.   ,   3.835,   0.   ],\n",
       "       [  8.   , 146.   ,   1.429,   1.   ],\n",
       "       [  7.   , 130.   ,   1.826,   1.   ],\n",
       "       [  7.   , 135.   ,   1.726,   0.   ],\n",
       "       [ 10.   , 150.   ,   2.358,   0.   ],\n",
       "       [  9.   , 160.   ,   2.056,   0.   ],\n",
       "       [  9.   , 151.   ,   2.182,   0.   ],\n",
       "       [ 17.   , 175.   ,   3.406,   1.   ],\n",
       "       [  9.   , 168.   ,   3.042,   0.   ],\n",
       "       [  5.   , 124.   ,   1.282,   0.   ],\n",
       "       [ 12.   , 170.   ,   3.186,   0.   ],\n",
       "       [ 10.   , 160.   ,   2.292,   1.   ],\n",
       "       [  9.   , 150.   ,   2.529,   0.   ],\n",
       "       [  6.   , 132.   ,   1.666,   1.   ],\n",
       "       [  5.   , 127.   ,   1.343,   0.   ],\n",
       "       [  6.   , 141.   ,   2.102,   0.   ],\n",
       "       [ 10.   , 157.   ,   3.127,   1.   ],\n",
       "       [  9.   , 164.   ,   2.048,   0.   ],\n",
       "       [ 13.   , 160.   ,   2.449,   0.   ],\n",
       "       [ 14.   , 180.   ,   2.538,   0.   ],\n",
       "       [ 12.   , 182.   ,   4.72 ,   1.   ],\n",
       "       [  8.   , 145.   ,   2.226,   1.   ],\n",
       "       [  6.   , 146.   ,   1.747,   1.   ],\n",
       "       [ 10.   , 169.   ,   3.489,   1.   ],\n",
       "       [  8.   , 154.   ,   2.732,   1.   ],\n",
       "       [  9.   , 165.   ,   3.223,   0.   ],\n",
       "       [  8.   , 135.   ,   1.624,   1.   ],\n",
       "       [  8.   , 145.   ,   2.004,   1.   ],\n",
       "       [ 10.   , 155.   ,   2.481,   1.   ],\n",
       "       [  8.   , 147.   ,   1.953,   0.   ],\n",
       "       [  6.   , 147.   ,   1.919,   0.   ],\n",
       "       [  9.   , 144.   ,   1.947,   0.   ],\n",
       "       [ 14.   , 160.   ,   3.381,   1.   ],\n",
       "       [  9.   , 145.   ,   2.32 ,   0.   ],\n",
       "       [ 11.   , 159.   ,   3.169,   0.   ],\n",
       "       [  8.   , 144.   ,   1.872,   0.   ],\n",
       "       [ 14.   , 183.   ,   4.842,   1.   ],\n",
       "       [ 10.   , 152.   ,   2.864,   0.   ],\n",
       "       [  7.   , 132.   ,   1.253,   1.   ],\n",
       "       [ 16.   , 183.   ,   4.504,   1.   ],\n",
       "       [  8.   , 155.   ,   2.358,   0.   ],\n",
       "       [ 12.   , 173.   ,   3.343,   1.   ],\n",
       "       [ 12.   , 156.   ,   2.347,   0.   ],\n",
       "       [  3.   , 117.   ,   1.072,   0.   ],\n",
       "       [  8.   , 150.   ,   2.42 ,   1.   ],\n",
       "       [  7.   , 137.   ,   1.649,   1.   ],\n",
       "       [  9.   , 152.   ,   2.164,   1.   ],\n",
       "       [  9.   , 159.   ,   3.016,   0.   ],\n",
       "       [  7.   , 130.   ,   1.603,   0.   ],\n",
       "       [ 10.   , 168.   ,   2.581,   1.   ],\n",
       "       [  6.   , 140.   ,   1.535,   0.   ],\n",
       "       [ 13.   , 173.   ,   3.549,   1.   ],\n",
       "       [  9.   , 150.   ,   2.13 ,   0.   ],\n",
       "       [  8.   , 135.   ,   1.675,   1.   ],\n",
       "       [  9.   , 165.   ,   2.988,   0.   ],\n",
       "       [ 11.   , 183.   ,   4.637,   1.   ],\n",
       "       [ 14.   , 173.   ,   4.763,   1.   ],\n",
       "       [ 10.   , 157.   ,   2.688,   0.   ],\n",
       "       [  7.   , 141.   ,   2.371,   0.   ],\n",
       "       [  8.   , 151.   ,   2.639,   0.   ],\n",
       "       [  8.   , 160.   ,   2.211,   1.   ],\n",
       "       [ 14.   , 173.   ,   3.806,   1.   ],\n",
       "       [ 11.   , 165.   ,   2.123,   1.   ],\n",
       "       [  5.   , 130.   ,   1.452,   1.   ],\n",
       "       [ 10.   , 165.   ,   2.435,   0.   ],\n",
       "       [  8.   , 145.   ,   1.962,   1.   ],\n",
       "       [ 13.   , 173.   ,   2.216,   0.   ],\n",
       "       [ 10.   , 157.   ,   3.007,   1.   ],\n",
       "       [ 12.   , 157.   ,   3.035,   0.   ],\n",
       "       [  6.   , 132.   ,   1.572,   1.   ],\n",
       "       [  8.   , 152.   ,   2.123,   1.   ],\n",
       "       [ 13.   , 165.   ,   3.297,   0.   ],\n",
       "       [ 16.   , 168.   ,   2.981,   0.   ],\n",
       "       [ 11.   , 170.   ,   4.007,   1.   ],\n",
       "       [  9.   , 150.   ,   2.352,   1.   ],\n",
       "       [ 10.   , 165.   ,   3.038,   0.   ],\n",
       "       [ 11.   , 170.   ,   2.953,   0.   ],\n",
       "       [  9.   , 157.   ,   2.042,   1.   ],\n",
       "       [ 11.   , 164.   ,   3.587,   1.   ],\n",
       "       [  9.   , 156.   ,   2.442,   0.   ]])"
      ]
     },
     "execution_count": 13,
     "metadata": {},
     "output_type": "execute_result"
    }
   ],
   "source": [
    "X_test"
   ]
  },
  {
   "cell_type": "code",
   "execution_count": 14,
   "id": "c4f77e85",
   "metadata": {},
   "outputs": [
    {
     "name": "stdout",
     "output_type": "stream",
     "text": [
      "Test set predictions: [0 0 0 0 0 0 0 0 0 0 0 0 0 0 0 0 0 0 0 0 0 0 0 0 0 0 0 0 0 0 0 0 0 0 0 0 0\n",
      " 0 0 0 0 0 0 0 0 0 0 0 0 0 0 0 0 0 0 0 0 0 1 0 0 0 0 0 0 0 0 0 0 0 0 0 0 0\n",
      " 0 0 0 0 0 0 0 0 0 0 0 0 0 0 0 0 0 0 0 0 0 0 0 0 0 0 0 0 0 0 0 0 0 0 0 0 0\n",
      " 0 0 0 0 0 0 0 0 0 0 0 0 0 0 0 0 0 0 0 0]\n"
     ]
    }
   ],
   "source": [
    "print(\"Test set predictions: {}\".format(clf.predict(X_test)))"
   ]
  },
  {
   "cell_type": "markdown",
   "id": "9999a5ef",
   "metadata": {},
   "source": [
    "# COMPARING OF TRAINING AND TEST ACCURACY  "
   ]
  },
  {
   "cell_type": "code",
   "execution_count": 15,
   "id": "8d3da149",
   "metadata": {},
   "outputs": [
    {
     "name": "stdout",
     "output_type": "stream",
     "text": [
      "Test set accuracy: 0.88\n"
     ]
    }
   ],
   "source": [
    "print(\"Test set accuracy: {:.2f}\".format(clf.score(X_test, y_test)))"
   ]
  },
  {
   "cell_type": "code",
   "execution_count": 16,
   "id": "e45563fb",
   "metadata": {},
   "outputs": [
    {
     "data": {
      "image/png": "[encoded data removed]",
      "text/plain": [
       "<Figure size 432x288 with 1 Axes>"
      ]
     },
     "metadata": {
      "needs_background": "light"
     },
     "output_type": "display_data"
    }
   ],
   "source": [
    "X_train, X_test, y_train, y_test = train_test_split(X, y, test_size=0.20,random_state=42)\n",
    "\n",
    "training_accuracy = []\n",
    "test_accuracy = []\n",
    "# try n_neighbors from 1 to 10\n",
    "neighbors_settings = range(1, 10)\n",
    "\n",
    "for n_neighbors in neighbors_settings:\n",
    "    # build the model\n",
    "    clf = KNeighborsClassifier(n_neighbors=n_neighbors)\n",
    "    clf.fit(X_train, y_train)\n",
    "    # record training set accuracy\n",
    "    training_accuracy.append(clf.score(X_train, y_train))\n",
    "    # record generalization accuracy\n",
    "    test_accuracy.append(clf.score(X_test, y_test))\n",
    "    \n",
    "plt.plot(neighbors_settings, training_accuracy, label=\"training accuracy\")\n",
    "plt.plot(neighbors_settings, test_accuracy, label=\"test accuracy\")\n",
    "plt.ylabel(\"Accuracy\")\n",
    "plt.xlabel(\"n_neighbors\")\n",
    "plt.legend()\n",
    "\n",
    "pass"
   ]
  },
  {
   "cell_type": "markdown",
   "id": "d276ec61",
   "metadata": {},
   "source": [
    "The test size that we used was 0.2. 20% of the data is split into the test, while 80% is used to train the model. We are then able to get a 0.88 accuracy from our K Neighbors classification report."
   ]
  },
  {
   "cell_type": "code",
   "execution_count": 17,
   "id": "bf6275cb",
   "metadata": {},
   "outputs": [
    {
     "name": "stdout",
     "output_type": "stream",
     "text": [
      "Accuracy is: [0.90839695 0.90076336 0.90076336 0.85496183 0.80769231]\n",
      "Precision is: [0.95384615 0.45038168 0.70348837 0.51371951 0.60576923]\n",
      "Recall is [0.53846154 0.5        0.53422425 0.50880052 0.68803419]\n",
      "F1-Score is: [0.54723502 0.47389558 0.54035088 0.50819996 0.62292609]\n"
     ]
    }
   ],
   "source": [
    "#kfold = model_selection.KFold(n_splits=100)\n",
    "model=KNeighborsClassifier()\n",
    "accuracy = cross_val_score(model,X,y, cv=5, scoring='accuracy') \n",
    "precision = cross_val_score(model,X,y, cv=5, scoring='precision_macro') \n",
    "recall = cross_val_score(model,X,y, cv=5, scoring='recall_macro') \n",
    "f1 = cross_val_score(model,X,y, cv=5, scoring='f1_macro')\n",
    "\n",
    "print('Accuracy is:', accuracy) \n",
    "print('Precision is:', precision) \n",
    "print('Recall is', recall) \n",
    "print('F1-Score is:', f1)"
   ]
  },
  {
   "cell_type": "code",
   "execution_count": 18,
   "id": "edd4594c",
   "metadata": {},
   "outputs": [],
   "source": [
    "accuracy_rate = []\n",
    "\n",
    "# Range of n_neighbors for KNN\n",
    "for i in range(1,40):\n",
    "    knn = KNeighborsClassifier(n_neighbors=i)\n",
    "    scores = cross_val_score(knn, X_train, y_train, cv=10, scoring='accuracy')\n",
    "    accuracy_rate.append(scores.mean())"
   ]
  },
  {
   "cell_type": "markdown",
   "id": "9ce55356",
   "metadata": {},
   "source": [
    "# FINDING THE OPTIMAL NUMBER OF N-NEIGHBORS WITH THE HIGHEST ACCURACY RATE"
   ]
  },
  {
   "cell_type": "code",
   "execution_count": 19,
   "id": "d2b88afb",
   "metadata": {},
   "outputs": [
    {
     "data": {
      "image/png": "[encoded data removed]",
      "text/plain": [
       "<Figure size 864x432 with 1 Axes>"
      ]
     },
     "metadata": {
      "needs_background": "light"
     },
     "output_type": "display_data"
    }
   ],
   "source": [
    "plt.figure(figsize=(12,6))\n",
    "\n",
    "accuracy_plot = plt.plot(range(1,40), accuracy_rate, color='blue', linestyle='dashed', marker='o', \n",
    "    markerfacecolor='red', markersize=10)\n",
    "\n",
    "accuracy_plot = plt.title('Accuracy Rate vs. K Value')\n",
    "\n",
    "accuracy_plot = plt.xlabel('N_neighbors')\n",
    "\n",
    "accuracy_plot = plt.ylabel('Accuracy Rate')"
   ]
  },
  {
   "cell_type": "markdown",
   "id": "f157c30f",
   "metadata": {},
   "source": [
    "As we can see from the plot, the peak of the accuracy rate stops at 25, as we increase the N_neigbors, the accuracy rate stays the same. In this experiment, we get the highest accuracy rate at N_neigbors = 7."
   ]
  },
  {
   "cell_type": "code",
   "execution_count": 20,
   "id": "f6e9d372",
   "metadata": {},
   "outputs": [],
   "source": [
    "error_rate = []\n",
    "\n",
    "# Range of n_neighbors for KNN\n",
    "for i in range(1,50):\n",
    "    knn = KNeighborsClassifier(n_neighbors=i)\n",
    "    scores = cross_val_score(knn, X_train, y_train, cv=10, scoring='accuracy')\n",
    "    error_rate.append(1 - scores.mean())"
   ]
  },
  {
   "cell_type": "code",
   "execution_count": 21,
   "id": "18fd4333",
   "metadata": {},
   "outputs": [
    {
     "data": {
      "image/png": "[encoded data removed]",
      "text/plain": [
       "<Figure size 864x432 with 1 Axes>"
      ]
     },
     "metadata": {
      "needs_background": "light"
     },
     "output_type": "display_data"
    }
   ],
   "source": [
    "plt.figure(figsize=(12,6))\n",
    "\n",
    "error_rate_plot = plt.plot(range(1,50), error_rate, color='blue', linestyle='dashed', marker='o', \n",
    "    markerfacecolor='red', markersize=10)\n",
    "\n",
    "error_rate_plot = plt.title('Error Rate vs. K Value')\n",
    "\n",
    "error_rate_plot = plt.xlabel('N_neighbors')\n",
    "\n",
    "error_rate_plot = plt.ylabel('Error Rate')"
   ]
  },
  {
   "cell_type": "markdown",
   "id": "7b04068d",
   "metadata": {},
   "source": [
    "The k-number with the lowest error value is the best k-number. As we can see from the plot, we get the lowest error value at K=7."
   ]
  },
  {
   "cell_type": "code",
   "execution_count": 22,
   "id": "64a4091b",
   "metadata": {},
   "outputs": [
    {
     "name": "stdout",
     "output_type": "stream",
     "text": [
      "[0.89393939 0.89393939 0.89393939 0.89393939 0.90769231 0.90769231\n",
      " 0.90769231 0.90769231 0.90769231 0.87692308]\n"
     ]
    }
   ],
   "source": [
    "from sklearn.model_selection import cross_val_score                         \n",
    "\n",
    "neighbors = []                                                             \n",
    "cv_scores = []                                                          \n",
    "\n",
    "\n",
    "for k in range(1, 51, 2):                                                   \n",
    "    neighbors.append(k) \n",
    "    knn = KNeighborsClassifier(n_neighbors = k)                             \n",
    "    scores = cross_val_score( \n",
    "        knn, X_train, y_train, cv = 10, scoring = 'accuracy') \n",
    "    cv_scores.append(scores.mean()) \n",
    "    \n",
    "\n",
    "    \n",
    "scores = cross_val_score(knn, X, y, cv=10, scoring='accuracy')\n",
    "print(scores)   "
   ]
  },
  {
   "cell_type": "markdown",
   "id": "cae20b7c",
   "metadata": {},
   "source": [
    "# FINDING THE OPTIMAL NUMBER OF K-NEIGHBORS"
   ]
  },
  {
   "cell_type": "code",
   "execution_count": 23,
   "id": "06999f0a",
   "metadata": {},
   "outputs": [
    {
     "name": "stdout",
     "output_type": "stream",
     "text": [
      "The optimal number of K neighbors = 7 \n"
     ]
    },
    {
     "data": {
      "image/png": "[encoded data removed]",
      "text/plain": [
       "<Figure size 720x432 with 1 Axes>"
      ]
     },
     "metadata": {
      "needs_background": "light"
     },
     "output_type": "display_data"
    }
   ],
   "source": [
    "MSE = [1-x for x in cv_scores]                                               # Changing to misclassification error\n",
    "\n",
    "# Determining the best k value\n",
    "optimal_k = neighbors[MSE.index(min(MSE))]\n",
    "print('The optimal number of K neighbors = %d ' %optimal_k)\n",
    "\n",
    "# Plot misclassification error versus k\n",
    "plt.figure(figsize = (10,6))\n",
    "plt.plot(neighbors, MSE)\n",
    "plt.xlabel('Number of K neighbors')\n",
    "plt.ylabel('Misclassification Error')\n",
    "plt.show()"
   ]
  },
  {
   "cell_type": "markdown",
   "id": "6c0d53c9",
   "metadata": {},
   "source": [
    "By plotting the Misclassification Error we will be able to know the optimal number of K neighbors. This will help us get the highest accuracy score."
   ]
  },
  {
   "cell_type": "markdown",
   "id": "f575e143",
   "metadata": {},
   "source": [
    "K= 7 is the optimal K value with minimal misclassification error."
   ]
  },
  {
   "cell_type": "code",
   "execution_count": 24,
   "id": "98a32137",
   "metadata": {},
   "outputs": [
    {
     "name": "stdout",
     "output_type": "stream",
     "text": [
      "Classification Report : \n",
      "\n",
      "\n",
      "              precision    recall  f1-score   support\n",
      "\n",
      "           0       0.88      1.00      0.93       114\n",
      "           1       1.00      0.06      0.11        17\n",
      "\n",
      "    accuracy                           0.88       131\n",
      "   macro avg       0.94      0.53      0.52       131\n",
      "weighted avg       0.89      0.88      0.83       131\n",
      "\n"
     ]
    }
   ],
   "source": [
    "model=KNeighborsClassifier(n_neighbors=7)\n",
    "model.fit(X_train,y_train)\n",
    "y_pred=model.predict(X_test)\n",
    "\n",
    "# Generate the summary of the predictions (Classification Report) made by the classifier\n",
    "from sklearn.metrics import classification_report\n",
    "\n",
    "print(\"Classification Report : \\n\\n\")\n",
    "print(classification_report(y_test, y_pred))"
   ]
  },
  {
   "cell_type": "code",
   "execution_count": 25,
   "id": "7d9cc034",
   "metadata": {},
   "outputs": [
    {
     "name": "stdout",
     "output_type": "stream",
     "text": [
      "Accuracy of child smoking using KNN = 87.78625954198473\n"
     ]
    }
   ],
   "source": [
    "from sklearn.metrics import accuracy_score\n",
    "print('Accuracy of child smoking using KNN =',accuracy_score(y_pred,y_test)*100)"
   ]
  },
  {
   "cell_type": "markdown",
   "id": "04757c8e",
   "metadata": {},
   "source": [
    "# CONFUSION MATRIX"
   ]
  },
  {
   "cell_type": "code",
   "execution_count": 26,
   "id": "1a9b66c3",
   "metadata": {},
   "outputs": [
    {
     "data": {
      "text/plain": [
       "Text(91.68, 0.5, 'predicted class')"
      ]
     },
     "execution_count": 26,
     "metadata": {},
     "output_type": "execute_result"
    },
    {
     "data": {
      "image/png": "[encoded data removed]",
      "text/plain": [
       "<Figure size 432x288 with 1 Axes>"
      ]
     },
     "metadata": {
      "needs_background": "light"
     },
     "output_type": "display_data"
    }
   ],
   "source": [
    "from sklearn.metrics import confusion_matrix \n",
    "\n",
    "# Summary of the predictions made by the classifier\n",
    "mat = confusion_matrix(y_test, y_pred) \n",
    "sns.heatmap(mat.T, square=True, annot=True, fmt='d', cbar=False) \n",
    "\n",
    "plt.title('Confusion Matrix')\n",
    "plt.xlabel('true class') \n",
    "plt.ylabel('predicted class')"
   ]
  },
  {
   "cell_type": "markdown",
   "id": "d435b086",
   "metadata": {},
   "source": []
  },
  {
   "cell_type": "markdown",
   "id": "c89fe598",
   "metadata": {},
   "source": [
    "The researchers have predicted that out of 148 samples, 17 of them are children who smoke and 131 are non-smokers. </br>\n",
    "We used the K-Nearest Neighbors (KNN) model because it is the best fitting model to compare the average and their nearest neighbors from the center point."
   ]
  }
 ],
 "metadata": {
  "kernelspec": {
   "display_name": "Python 3 (ipykernel)",
   "language": "python",
   "name": "python3"
  },
  "language_info": {
   "codemirror_mode": {
    "name": "ipython",
    "version": 3
   },
   "file_extension": ".py",
   "mimetype": "text/x-python",
   "name": "python",
   "nbconvert_exporter": "python",
   "pygments_lexer": "ipython3",
   "version": "3.9.7"
  },
  "toc": {
   "base_numbering": 1,
   "nav_menu": {},
   "number_sections": true,
   "sideBar": true,
   "skip_h1_title": false,
   "title_cell": "Table of Contents",
   "title_sidebar": "Contents",
   "toc_cell": false,
   "toc_position": {},
   "toc_section_display": true,
   "toc_window_display": false
  }
 },
 "nbformat": 4,
 "nbformat_minor": 5
}
